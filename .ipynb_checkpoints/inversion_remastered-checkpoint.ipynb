{
 "cells": [
  {
   "cell_type": "code",
   "execution_count": null,
   "metadata": {},
   "outputs": [],
   "source": [
    "%load_ext autoreload\n",
    "%autoreload 2\n",
    "import numpy as np\n",
    "import matplotlib\n",
    "import matplotlib.pyplot as plt\n",
    "import pickle as pkl\n",
    "import scipy\n",
    "\n",
    "from inversion_tools_remastered import *"
   ]
  },
  {
   "cell_type": "markdown",
   "metadata": {},
   "source": [
    "# Regularised inversion code\n",
    "\n",
    "Functions are defined in `inversion_tools`. We first define a few parameters, such as the species of interest, and the spectral ranges. We then load up the data, and subset things spectrally.\n"
   ]
  },
  {
   "cell_type": "code",
   "execution_count": null,
   "metadata": {},
   "outputs": [],
   "source": [
    "# Species and spectral bounds (in cm^{-1}) as a dictionary.\n",
    "bounds = {\n",
    "    \"CO2\": (6250, 6600),\n",
    "    \"CH4\": [9100, 9700],\n",
    "    \"H2O\": [5500, 5900],\n",
    "    \"CO\": [2500, 4000],\n",
    "}\n",
    "selected_spectra = list(bounds.keys())\n",
    "\n",
    "(spectra_obs, absorption_spectra, species_names, wv_obs) = read_data(\n",
    "    selected_spectra,\n",
    "    \"spectra/test_series/\", # Location of the series we want to invert.\n",
    "    \"spectra/templates/\" # Location of the individual species \"template\" absorption\n",
    ")"
   ]
  },
  {
   "cell_type": "code",
   "execution_count": null,
   "metadata": {},
   "outputs": [],
   "source": [
    "from pathlib import Path\n",
    "Freq_obs = np.array(wv_obs)\n",
    "folder = Path(\"Calibration/\")\n",
    "files = {f.name:f for f in sorted(folder.rglob(\"**/*_1ppm_*\"))\n",
    "        if int(f.name.split(\"_\")[3].split(\" \")[-1]) > 800}\n",
    "\n",
    "storage_mtx = np.zeros((31, len(Freq_obs)))\n",
    "labels =  []\n",
    "bounds_clip = {}\n",
    "tmp = np.zeros_like(Freq_obs)\n",
    "prev_name = \"\"\n",
    "output = []\n",
    "for i, (sp, fname) in enumerate(files.items()):\n",
    "    labels.append(sp.rstrip(\".prn\").split(\"_\")[3])\n",
    "    this_name = sp.rstrip(\".prn\").split(\"_\")[3]\n",
    "    wv, abso = np.loadtxt(fname, unpack=True)\n",
    "    iloc = np.argmin(np.abs(wv.min() - Freq_obs))\n",
    "    jloc = np.argmin(np.abs(wv.max() - Freq_obs))\n",
    "    if i != 0 and this_name.split(\" \")[0] != prev_name:\n",
    "        output.append(tmp)\n",
    "        tmp = np.zeros_like(Freq_obs)\n",
    "    elif i!=0:\n",
    "        labels.pop(len(labels)-1)\n",
    "    prev_name = this_name.split(\" \")[0] \n",
    "    tmp[iloc:(jloc+1)] = abso\n",
    "\n",
    "storage_mtx = np.array(output)"
   ]
  },
  {
   "cell_type": "code",
   "execution_count": null,
   "metadata": {},
   "outputs": [],
   "source": [
    "plt.scatter(wv_obs[np.all(storage_mtx == 0, axis=0)], spectra_obs[0][np.all(storage_mtx == 0, axis=0)],s=1)"
   ]
  },
  {
   "cell_type": "code",
   "execution_count": null,
   "metadata": {},
   "outputs": [],
   "source": [
    "S = np.array([s[~np.all(storage_mtx == 0, axis=0)] for s in spectra_obs])\n",
    "S_l = np.array([np.log(x) for x in S])\n",
    "W = wv_obs[~np.all(storage_mtx == 0, axis=0)]"
   ]
  },
  {
   "cell_type": "code",
   "execution_count": null,
   "metadata": {},
   "outputs": [],
   "source": [
    "labels_new = [''.join(x.split(' ')[0:-2]) for x in labels]"
   ]
  },
  {
   "cell_type": "code",
   "execution_count": null,
   "metadata": {},
   "outputs": [],
   "source": [
    "storage_mtx = storage_mtx[:,~np.all(storage_mtx == 0, axis=0)]\n",
    "\n",
    "fig, ax = plt.subplots(figsize=(10,10))\n",
    "\n",
    "fig.canvas.draw()\n",
    "\n",
    "ax.spy(storage_mtx, aspect = 1/0.005)\n",
    "\n",
    "ax.set_yticks(np.arange(0,17,1))\n",
    "ax.set_yticklabels(labels_new, fontsize=14)\n",
    "ax.set_xticklabels([int(W[x]) for x in [-500, 0,500,1000,1500,2000,2500,3000,3500, len(W)-1]], fontsize=14)\n",
    "\n",
    "ax.set_xlabel('Wavenumber / cm$^{-1}$', fontsize=14)\n",
    "ax.xaxis.set_label_position('top') \n",
    "\n",
    "plt.show()\n",
    "import scipy.sparse as sprs\n",
    "fig, ax = plt.subplots(figsize=(10,10))\n",
    "\n",
    "storage_mtx_SM = sprs.csr_matrix(storage_mtx)\n",
    "\n",
    "cmap = matplotlib.cm.spring  # Can be any colormap that you want after the cm\n",
    "\n",
    "d= storage_mtx_SM.todense()\n",
    "ax.imshow(d,interpolation='none',cmap=cmap, aspect = 1/0.005)\n",
    "\n",
    "ax.set_yticks(np.arange(0,17,1))\n",
    "ax.set_yticklabels(labels_new, fontsize=14)\n",
    "ax.set_xticklabels([int(W[x]) for x in [-500, 0,500,1000,1500,2000,2500,3000,3500, len(W)-1]], fontsize=14)\n",
    "\n",
    "ax.set_xlabel('Wavenumber / cm$^{-1}$', fontsize=14)"
   ]
  },
  {
   "cell_type": "code",
   "execution_count": null,
   "metadata": {
    "scrolled": true
   },
   "outputs": [],
   "source": [
    "# Note that the remove_background still take bounds_clip as input. This doesn't do anything, I will get round to removing soon.\n",
    "\n",
    "# Simple background removal and subsetting.\n",
    "residual_spectra = remove_background(S_l, bounds_clip, W)\n",
    "# Subsetting of the absorption spectra.\n",
    "\n",
    "reference_spectra = storage_mtx[:, ~np.all(storage_mtx == 0, axis=0)]"
   ]
  },
  {
   "cell_type": "markdown",
   "metadata": {},
   "source": [
    "# One by one inversion\n",
    "\n",
    "This is how you invert individual timesteps (or individual spectra for that matter).\n",
    "\n",
    "Shown for the two first time steps and timesteps 300 and 350"
   ]
  },
  {
   "cell_type": "code",
   "execution_count": null,
   "metadata": {},
   "outputs": [],
   "source": [
    "for tstep in [0, 1, 300, 350]:\n",
    "    x_sol = np.linalg.lstsq(reference_spectra.T, residual_spectra[tstep, :], rcond=None)\n",
    "    print(tstep, \"=>\", x_sol[0])"
   ]
  },
  {
   "cell_type": "markdown",
   "metadata": {},
   "source": [
    "# Regularised inversion\n",
    "\n",
    "Now for the regularised inversion. This also returns uncertainty (not complete, as I don't really know what the observational error in the data is). Note that the function returns the variance of the posterior distribution, so we need to take the square root. Here I plot the maximum a posteriori and $\\pm \\sigma/2$, for good measure.\n",
    "\n"
   ]
  },
  {
   "cell_type": "code",
   "execution_count": null,
   "metadata": {},
   "outputs": [],
   "source": [
    "gamma_selection = np.loadtxt(\"gamma_selection.csv\")[:-1]"
   ]
  },
  {
   "cell_type": "code",
   "execution_count": null,
   "metadata": {
    "scrolled": false
   },
   "outputs": [],
   "source": [
    "x_sol,sigma, C = temporally_regularised_inversion(reference_spectra, residual_spectra,\n",
    "                                                  0.005)"
   ]
  },
  {
   "cell_type": "code",
   "execution_count": null,
   "metadata": {},
   "outputs": [],
   "source": [
    "# Calibration now. Will this affect sigma or C??\n",
    "\n",
    "with open('CalibrationData.pkl', 'rb') as f:\n",
    "    cal_temp = pkl.load(f)\n",
    "\n",
    "prev = ''\n",
    "cal = {}\n",
    "for x in cal_temp.keys():\n",
    "    a = x.split(' ')[0]\n",
    "    if a != prev:\n",
    "        cal[x] = cal_temp[x]\n",
    "    prev = a\n",
    "    \n",
    "cal.pop('C2H2')\n",
    "cal.pop('Toluene ')\n",
    "\n",
    "nt = residual_spectra.shape[0]"
   ]
  },
  {
   "cell_type": "code",
   "execution_count": null,
   "metadata": {},
   "outputs": [],
   "source": [
    "def ConvertToConc(x_sol, cal, nt):\n",
    "    \n",
    "    new_sol = []\n",
    "    \n",
    "    for i, x in enumerate(cal.keys()):\n",
    "        spec_sol = x_sol[i*nt:(i+1)*nt]\n",
    "\n",
    "        f = scipy.interpolate.interp1d(cal[x]['NormalisationInfo'][0],cal[x]['NormalisationInfo'][1])\n",
    "        \n",
    "        for j in range(len(spec_sol)):\n",
    "            try:\n",
    "                new_sol.append(f(spec_sol[j]))\n",
    "            except:\n",
    "                #print(\"unphysical\")\n",
    "                new_sol.append(spec_sol[j])\n",
    "            \n",
    "    return new_sol"
   ]
  },
  {
   "cell_type": "code",
   "execution_count": null,
   "metadata": {},
   "outputs": [],
   "source": [
    "new_sol = ConvertToConc(x_sol, cal, nt)"
   ]
  },
  {
   "cell_type": "code",
   "execution_count": null,
   "metadata": {},
   "outputs": [],
   "source": [
    "import colorsys\n",
    "\n",
    "def HSVToRGB(h, s, v): \n",
    "    (r, g, b) = colorsys.hsv_to_rgb(h, s, v) \n",
    "    return (int(255*r), int(255*g), int(255*b)) \n",
    "\n",
    "def getDistinctColors(n): \n",
    "    huePartition = 1.0 / (n + 1) \n",
    "    return (HSVToRGB(huePartition * value, 1.0, 1.0) for value in range(0, n))\n",
    "\n",
    "def rgb2hex(rgb):\n",
    "    return \"#{:02x}{:02x}{:02x}\".format(rgb[0],rgb[1],rgb[2])\n",
    "\n",
    "def hilo(a, b, c):\n",
    "    if c < b: b, c = c, b\n",
    "    if b < a: a, b = b, a\n",
    "    if c < b: b, c = c, b\n",
    "    return a + c\n",
    "\n",
    "def complement(col):\n",
    "    r, g, b = col[0], col[1], col[2]\n",
    "    k = hilo(r, g, b)\n",
    "    return tuple(k - u for u in (r, g, b))"
   ]
  },
  {
   "cell_type": "code",
   "execution_count": null,
   "metadata": {
    "scrolled": false
   },
   "outputs": [],
   "source": [
    "fig, axs = plt.subplots(nrows=8, ncols=2, figsize= (20,15),sharex=True)\n",
    "axs = axs.flatten()\n",
    "nt = residual_spectra.shape[0]\n",
    "colours = getDistinctColors(len(labels_new))\n",
    "\n",
    "for i, spc in enumerate(labels_new):\n",
    "    try:\n",
    "        col = next(colours)\n",
    "        c = rgb2hex(col)\n",
    "        c_comp = rgb2hex(complement(col))\n",
    "        axs[i].plot(np.arange(nt), new_sol[i*nt:(i+1)*nt], color = 'red')\n",
    "        axs[i].fill_between(np.arange(nt), new_sol[i*nt:(i+1)*nt] - 0.5*np.sqrt(sigma[i*nt:(i+1)*nt]),\n",
    "                            new_sol[i*nt:(i+1)*nt] + 0.5*np.sqrt(sigma[i*nt:(i+1)*nt]),\n",
    "                            color= \"0.8\")\n",
    "        axs[i].set_title(spc, fontsize=20)\n",
    "        axs[i].tick_params(labelsize=20)\n",
    "    except:\n",
    "        continue\n",
    "\n",
    "fig.text(0.5, -0.001, 'Time Step', ha='center', fontsize=20)\n",
    "fig.text(-0.003, 0.5, '$\\sim$ Concentration (ish)', va='center', rotation='vertical', fontsize=20)\n",
    "\n",
    "fig.tight_layout()"
   ]
  },
  {
   "cell_type": "code",
   "execution_count": null,
   "metadata": {},
   "outputs": [],
   "source": [
    "def Euclidean_Norm(arr):\n",
    "    t = 0\n",
    "    for x in arr:\n",
    "        t += x**2\n",
    "    return np.sqrt(t)\n",
    "\n",
    "Gam_Range = np.logspace(-8, 2.5, num=200)"
   ]
  },
  {
   "cell_type": "markdown",
   "metadata": {},
   "source": [
    "Code below trials the model over N $\\gamma$ values and optimises values. These values are loaded earlier for actual use"
   ]
  },
  {
   "cell_type": "code",
   "execution_count": null,
   "metadata": {
    "scrolled": true
   },
   "outputs": [],
   "source": [
    "# Resid_norm = []\n",
    "# Soln_norm = []\n",
    "\n",
    "# for gamma in Gam_Range:\n",
    "#     x_sol,sigma, C = temporally_regularised_inversion(reference_spectra, residual_spectra, gamma)\n",
    "    \n",
    "#     for i in range(len(labels_new)):\n",
    "#         sol = x_sol[i*nt:(i+1)*nt]\n",
    "#         resid = np.sqrt(sigma[i*nt:(i+1)*nt])\n",
    "        \n",
    "#         if len(Resid_norm) < len(labels_new):\n",
    "#             Resid_norm.append([])\n",
    "#             Soln_norm.append([])\n",
    "        \n",
    "#         Resid_norm[i].append(Euclidean_Norm(resid))\n",
    "#         Soln_norm[i].append(Euclidean_Norm(sol))\n",
    "\n",
    "# np.savetxt(\"Resid_Norms3.csv\", Resid_norm, delimiter=\",\")\n",
    "# np.savetxt(\"Soln_Norms3.csv\", Soln_norm, delimiter=\",\")"
   ]
  },
  {
   "cell_type": "code",
   "execution_count": null,
   "metadata": {},
   "outputs": [],
   "source": [
    "import matplotlib as mpl\n",
    "import matplotlib.pyplot as plt\n",
    "from matplotlib import cm\n",
    "from matplotlib.colors import ListedColormap, LinearSegmentedColormap"
   ]
  },
  {
   "cell_type": "code",
   "execution_count": null,
   "metadata": {
    "scrolled": true
   },
   "outputs": [],
   "source": [
    "viridis = cm.get_cmap('viridis', 12)\n",
    "norm = mpl.colors.Normalize(vmin=np.log10(Gam_Range).min(), vmax=np.log10(Gam_Range).max())\n",
    "\n",
    "for i in range(len(Resid_norm)):\n",
    "    \n",
    "    fig, ax = plt.subplots()\n",
    "    \n",
    "    for x in range(len(Resid_norm[i])):\n",
    "        ax.scatter(Resid_norm[i][x], Soln_norm[i][x], color = viridis(norm(np.log10(Gam_Range[x]))))\n",
    "    #plt.xscale('log')\n",
    "    ax.set_title(labels_new[i], fontsize=15)\n",
    "    ax.set_xlabel('$\\\\vert$$\\\\vert$Residual$\\\\vert$$\\\\vert_2$', fontsize=15)\n",
    "    ax.set_ylabel('$\\\\vert$$\\\\vert$Solution$\\\\vert$$\\\\vert_2$', fontsize=15)\n",
    "    ax.tick_params(labelsize=15)\n",
    "    cbar = fig.colorbar(cm.ScalarMappable(norm=norm, cmap=viridis), ax=ax)\n",
    "    cbar.ax.set_yticklabels(['10$^{-8}$', '10$^{-6}$', '$10^{-4}$', '$10^{-2}$', '$1$', '$10^{2}$'], fontsize=15)\n",
    "    cbar.ax.set_ylabel('$\\gamma$', rotation=0, fontsize=15)\n",
    "    plt.show()"
   ]
  },
  {
   "cell_type": "code",
   "execution_count": null,
   "metadata": {
    "scrolled": true
   },
   "outputs": [],
   "source": [
    "for i in range(len(Resid_norm)):\n",
    "    \n",
    "    fig, ax = plt.subplots()\n",
    "    \n",
    "    for x in range(len(Resid_norm[i])):\n",
    "        ax.scatter(Resid_norm[i][x], np.gradient(Soln_norm[i])[x], color = viridis(norm(np.log10(Gam_Range[x]))))\n",
    "    #plt.xscale('log')\n",
    "    ax.set_title(labels_new[i], fontsize=15)\n",
    "    ax.set_xlabel('$\\\\vert$$\\\\vert$Residual$\\\\vert$$\\\\vert_2$', fontsize=15)\n",
    "    ax.set_ylabel('Grad($\\\\vert$$\\\\vert$Solution$\\\\vert$$\\\\vert_2$)', fontsize=15)\n",
    "    ax.tick_params(labelsize=15)\n",
    "    cbar = fig.colorbar(cm.ScalarMappable(norm=norm, cmap=viridis), ax=ax)\n",
    "    cbar.ax.set_yticklabels(['10$^{-8}$', '10$^{-6}$', '$10^{-4}$', '$10^{-2}$', '$1$', '$10^{2}$'], fontsize=15)\n",
    "    cbar.ax.set_ylabel('$\\gamma$', rotation = 0, fontsize=15)\n",
    "    plt.show()"
   ]
  },
  {
   "cell_type": "code",
   "execution_count": null,
   "metadata": {},
   "outputs": [],
   "source": [
    "gamma_selection = []\n",
    "\n",
    "for x in Soln_norm:\n",
    "    index = np.where(abs(np.gradient(x)) == max(abs(np.gradient(x))))\n",
    "    gamma_selection.append(Gam_Range[index][0])\n",
    "    "
   ]
  },
  {
   "cell_type": "code",
   "execution_count": null,
   "metadata": {},
   "outputs": [],
   "source": []
  }
 ],
 "metadata": {
  "kernelspec": {
   "display_name": "Python 3 (ipykernel)",
   "language": "python",
   "name": "python3"
  },
  "language_info": {
   "codemirror_mode": {
    "name": "ipython",
    "version": 3
   },
   "file_extension": ".py",
   "mimetype": "text/x-python",
   "name": "python",
   "nbconvert_exporter": "python",
   "pygments_lexer": "ipython3",
   "version": "3.11.3"
  }
 },
 "nbformat": 4,
 "nbformat_minor": 2
}
