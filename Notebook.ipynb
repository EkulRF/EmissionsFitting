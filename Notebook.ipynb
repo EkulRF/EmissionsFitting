{
 "cells": [
  {
   "cell_type": "code",
   "execution_count": null,
   "id": "150fedbc",
   "metadata": {},
   "outputs": [],
   "source": [
    "from os import listdir\n",
    "from os.path import isfile, join\n",
    "import numpy as np\n",
    "\n",
    "import EmissionsFitting as EmF"
   ]
  },
  {
   "cell_type": "code",
   "execution_count": null,
   "id": "bbf3bd6b",
   "metadata": {},
   "outputs": [],
   "source": [
    "Compounds = ['C2H2', 'C2H4', 'C2H6', 'CH3Cl', 'CH4', 'ClONO2', 'ClO', 'CO2', 'COF2', 'CO', 'H2CO', 'H2O2', 'H2O', 'H2S', 'HBr', 'HCl', 'HCN', 'HCOOH', 'HF', 'HI', 'HNO3', 'HO2', 'HOCl', 'N2O', 'N2', 'NH3', 'NO+', 'NO2', 'NO', 'O2', 'O3', 'OCS', 'OH', 'PH3', 'SF6', 'SO2']\n",
    "\n",
    "# For the sake of argument, References = A^T.\n",
    "References = EmF.getAbsorptionFeatures(Compounds)\n",
    "\n",
    "\n",
    "# H2S seems to be problematic. Remove it here.\n",
    "del References[13]\n",
    "del Compounds[13]"
   ]
  },
  {
   "cell_type": "code",
   "execution_count": null,
   "id": "9d2fbb66",
   "metadata": {},
   "outputs": [],
   "source": [
    "# Directs to a folder which contains ~500 time steps of a burn.\n",
    "\n",
    "Path = 'spectra/test_series/'\n",
    "\n",
    "onlyfiles = [f for f in listdir(Path) if isfile(join(Path, f))]"
   ]
  },
  {
   "cell_type": "code",
   "execution_count": null,
   "id": "5165f7f1",
   "metadata": {},
   "outputs": [],
   "source": [
    "# Very simple thing to generate an average spectrum (here from the first 5 spectra) to use as a base.\n",
    "\n",
    "Wavenumber_base, Spectrum_base = [], []\n",
    "\n",
    "for i in range(5):\n",
    "    filename = Path + onlyfiles[i]\n",
    "    f, s = EmF.getEmissionsSpectra(filename)\n",
    "    f, s = f[800:], s[800:]\n",
    "    Wavenumber_base.append(f)\n",
    "    Spectrum_base.append(s)\n",
    "    \n",
    "Wave_b = np.average(Wavenumber_base,axis=0)\n",
    "Spec_b = np.average(Spectrum_base,axis=0)"
   ]
  },
  {
   "cell_type": "code",
   "execution_count": null,
   "id": "9846cfef",
   "metadata": {},
   "outputs": [],
   "source": [
    "\"\"\"\n",
    "This wavenumber Range appropriate for CO2. I have a list of species and their corresponding\n",
    "ranges in EmissionsFitting.py, but this is fine for now\n",
    "\"\"\"\n",
    "Range =  [2300,2380]"
   ]
  },
  {
   "cell_type": "code",
   "execution_count": null,
   "id": "98051d08",
   "metadata": {},
   "outputs": [],
   "source": [
    "\"\"\"\n",
    "reduce_fit. If True, it will only feed system the data for CO2, CO, CH4, and H2O.\n",
    "\"\"\"\n",
    "reduce_fit = False\n",
    "\n",
    "for x in onlyfiles:\n",
    "    EmF.fit_spectra(Path+x, Range, [Wave_b, Spec_b], References, reduce_fit)"
   ]
  },
  {
   "cell_type": "code",
   "execution_count": null,
   "id": "4d539d50",
   "metadata": {},
   "outputs": [],
   "source": []
  }
 ],
 "metadata": {
  "kernelspec": {
   "display_name": "Python 3 (ipykernel)",
   "language": "python",
   "name": "python3"
  },
  "language_info": {
   "codemirror_mode": {
    "name": "ipython",
    "version": 3
   },
   "file_extension": ".py",
   "mimetype": "text/x-python",
   "name": "python",
   "nbconvert_exporter": "python",
   "pygments_lexer": "ipython3",
   "version": "3.9.16"
  }
 },
 "nbformat": 4,
 "nbformat_minor": 5
}
