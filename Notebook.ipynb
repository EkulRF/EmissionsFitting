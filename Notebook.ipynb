{
 "cells": [
  {
   "cell_type": "code",
   "execution_count": 1,
   "id": "150fedbc",
   "metadata": {},
   "outputs": [
    {
     "name": "stderr",
     "output_type": "stream",
     "text": [
      "C:\\Users\\luker\\Anaconda3\\lib\\site-packages\\scipy\\__init__.py:146: UserWarning: A NumPy version >=1.16.5 and <1.23.0 is required for this version of SciPy (detected version 1.23.5\n",
      "  warnings.warn(f\"A NumPy version >={np_minversion} and <{np_maxversion}\"\n"
     ]
    }
   ],
   "source": [
    "from os import listdir\n",
    "from os.path import isfile, join\n",
    "import numpy as np\n",
    "\n",
    "import EmissionsFitting as EmF"
   ]
  },
  {
   "cell_type": "code",
   "execution_count": 2,
   "id": "bbf3bd6b",
   "metadata": {},
   "outputs": [],
   "source": [
    "Compounds = ['C2H2', 'C2H4', 'C2H6', 'CH3Cl', 'CH4', 'ClONO2', 'ClO', 'CO2', 'COF2', 'CO', 'H2CO', 'H2O2', 'H2O', 'H2S', 'HBr', 'HCl', 'HCN', 'HCOOH', 'HF', 'HI', 'HNO3', 'HO2', 'HOCl', 'N2O', 'N2', 'NH3', 'NO+', 'NO2', 'NO', 'O2', 'O3', 'OCS', 'OH', 'PH3', 'SF6', 'SO2']\n",
    "\n",
    "# For the sake of argument, References = A^T.\n",
    "References = EmF.getAbsorptionFeatures(Compounds)\n",
    "\n",
    "\n",
    "# H2S seems to be problematic. Remove it here.\n",
    "del References[13]\n",
    "del Compounds[13]"
   ]
  },
  {
   "cell_type": "code",
   "execution_count": 3,
   "id": "9d2fbb66",
   "metadata": {},
   "outputs": [],
   "source": [
    "# Directs to a folder which contains ~500 time steps of a burn.\n",
    "\n",
    "Path = 'spectra/test_series/'\n",
    "\n",
    "onlyfiles = [f for f in listdir(Path) if isfile(join(Path, f))]"
   ]
  },
  {
   "cell_type": "code",
   "execution_count": 11,
   "id": "5165f7f1",
   "metadata": {},
   "outputs": [],
   "source": [
    "# Very simple thing to generate an average spectrum (here from the first 5 spectra) to use as a base.\n",
    "\n",
    "Wavenumber_base, Spectrum_base = [], []\n",
    "\n",
    "N = 150\n",
    "\n",
    "for i in range(N):\n",
    "    filename = Path + onlyfiles[i]\n",
    "    f, s = EmF.getEmissionsSpectra(filename)\n",
    "    f, s = f[800:], s[800:]\n",
    "    Wavenumber_base.append(f)\n",
    "    Spectrum_base.append(s)\n",
    "    \n",
    "Wave_b = np.average(Wavenumber_base,axis=0)\n",
    "Spec_b = np.average(Spectrum_base,axis=0)"
   ]
  },
  {
   "cell_type": "code",
   "execution_count": 15,
   "id": "b2d2224b",
   "metadata": {},
   "outputs": [],
   "source": [
    "Wave_avg = np.average(Wavenumber_base, axis=0)\n",
    "Spec_avg = np.average(Spectrum_base,axis=0)\n",
    "Wave_std = np.std(Wavenumber_base, axis=0)\n",
    "Wave_sterr = Wave_std/np.sqrt(N)\n"
   ]
  },
  {
   "cell_type": "code",
   "execution_count": 7,
   "id": "9846cfef",
   "metadata": {},
   "outputs": [],
   "source": [
    "\"\"\"\n",
    "This wavenumber Range appropriate for CO2. I have a list of species and their corresponding\n",
    "ranges in EmissionsFitting.py, but this is fine for now\n",
    "\"\"\"\n",
    "Range =  [0,10000]"
   ]
  },
  {
   "cell_type": "code",
   "execution_count": 8,
   "id": "98051d08",
   "metadata": {
    "scrolled": false
   },
   "outputs": [
    {
     "data": {
      "image/png": "[encoded data removed]",
      "text/plain": [
       "<Figure size 640x480 with 1 Axes>"
      ]
     },
     "metadata": {},
     "output_type": "display_data"
    },
    {
     "data": {
      "image/png": "[encoded data removed]",
      "text/plain": [
       "<Figure size 640x480 with 1 Axes>"
      ]
     },
     "metadata": {},
     "output_type": "display_data"
    },
    {
     "ename": "KeyboardInterrupt",
     "evalue": "",
     "output_type": "error",
     "traceback": [
      "\u001b[1;31m---------------------------------------------------------------------------\u001b[0m",
      "\u001b[1;31mKeyboardInterrupt\u001b[0m                         Traceback (most recent call last)",
      "Cell \u001b[1;32mIn[8], line 9\u001b[0m\n\u001b[0;32m      6\u001b[0m plot \u001b[38;5;241m=\u001b[39m \u001b[38;5;28;01mTrue\u001b[39;00m\n\u001b[0;32m      8\u001b[0m \u001b[38;5;28;01mfor\u001b[39;00m x \u001b[38;5;129;01min\u001b[39;00m onlyfiles:\n\u001b[1;32m----> 9\u001b[0m     \u001b[43mEmF\u001b[49m\u001b[38;5;241;43m.\u001b[39;49m\u001b[43mfit_spectra\u001b[49m\u001b[43m(\u001b[49m\u001b[43mPath\u001b[49m\u001b[38;5;241;43m+\u001b[39;49m\u001b[43mx\u001b[49m\u001b[43m,\u001b[49m\u001b[43m \u001b[49m\u001b[43mRange\u001b[49m\u001b[43m,\u001b[49m\u001b[43m \u001b[49m\u001b[43m[\u001b[49m\u001b[43mWave_b\u001b[49m\u001b[43m,\u001b[49m\u001b[43m \u001b[49m\u001b[43mSpec_b\u001b[49m\u001b[43m]\u001b[49m\u001b[43m,\u001b[49m\u001b[43m \u001b[49m\u001b[43mReferences\u001b[49m\u001b[43m,\u001b[49m\u001b[43m \u001b[49m\u001b[43mreduce_fit\u001b[49m\u001b[43m,\u001b[49m\u001b[43m \u001b[49m\u001b[43msmooth\u001b[49m\u001b[43m,\u001b[49m\u001b[43m \u001b[49m\u001b[43mplot\u001b[49m\u001b[43m)\u001b[49m\n",
      "File \u001b[1;32m~\\Documents\\GitHub\\EmissionsFitting\\EmissionsFitting.py:406\u001b[0m, in \u001b[0;36mfit_spectra\u001b[1;34m(filename, Range, Base, References, reduce_fit, smooth, plot)\u001b[0m\n\u001b[0;32m    402\u001b[0m x_opt \u001b[38;5;241m=\u001b[39m np\u001b[38;5;241m.\u001b[39mlinalg\u001b[38;5;241m.\u001b[39msolve(aT \u001b[38;5;241m@\u001b[39m C_obs_inv \u001b[38;5;241m@\u001b[39m a, aT \u001b[38;5;241m@\u001b[39m C_obs_inv \u001b[38;5;241m@\u001b[39m y_obs)\n\u001b[0;32m    404\u001b[0m e_new \u001b[38;5;241m=\u001b[39m a \u001b[38;5;241m@\u001b[39m x_opt \u001b[38;5;241m-\u001b[39m y_obs\n\u001b[1;32m--> 406\u001b[0m cov \u001b[38;5;241m=\u001b[39m np\u001b[38;5;241m.\u001b[39mlinalg\u001b[38;5;241m.\u001b[39minv(\u001b[43maT\u001b[49m\u001b[43m \u001b[49m\u001b[38;5;241;43m@\u001b[39;49m\u001b[43m \u001b[49m\u001b[43mC_obs_inv\u001b[49m \u001b[38;5;241m@\u001b[39m a)\n\u001b[0;32m    407\u001b[0m rmse_opt \u001b[38;5;241m=\u001b[39m np\u001b[38;5;241m.\u001b[39msqrt(np\u001b[38;5;241m.\u001b[39mmean(e_new \u001b[38;5;241m*\u001b[39m e_new))\n\u001b[0;32m    408\u001b[0m uncertainty \u001b[38;5;241m=\u001b[39m np\u001b[38;5;241m.\u001b[39msqrt(cov\u001b[38;5;241m.\u001b[39mdiagonal())\n",
      "\u001b[1;31mKeyboardInterrupt\u001b[0m: "
     ]
    }
   ],
   "source": [
    "\"\"\"\n",
    "reduce_fit. If True, it will only feed system the data for CO2, CO, CH4, and H2O.\n",
    "\"\"\"\n",
    "reduce_fit = False\n",
    "smooth = True\n",
    "plot = True\n",
    "\n",
    "for x in onlyfiles:\n",
    "    EmF.fit_spectra(Path+x, Range, [Wave_b, Spec_b], References, reduce_fit, smooth, plot)"
   ]
  },
  {
   "cell_type": "code",
   "execution_count": null,
   "id": "5a9831b7",
   "metadata": {},
   "outputs": [],
   "source": []
  }
 ],
 "metadata": {
  "kernelspec": {
   "display_name": "Python 3 (ipykernel)",
   "language": "python",
   "name": "python3"
  },
  "language_info": {
   "codemirror_mode": {
    "name": "ipython",
    "version": 3
   },
   "file_extension": ".py",
   "mimetype": "text/x-python",
   "name": "python",
   "nbconvert_exporter": "python",
   "pygments_lexer": "ipython3",
   "version": "3.9.16"
  }
 },
 "nbformat": 4,
 "nbformat_minor": 5
}
