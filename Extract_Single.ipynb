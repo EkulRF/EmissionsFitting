{
 "cells": [
  {
   "cell_type": "code",
   "execution_count": 4,
   "metadata": {},
   "outputs": [],
   "source": [
    "import os\n",
    "import numpy as np\n",
    "\n",
    "import matplotlib.pyplot as plt\n",
    "from ipywidgets import interact, widgets\n",
    "import mpld3\n",
    "\n",
    "dataset = \"Peat6\"\n",
    "\n",
    "result_path = \"/home/luke/data/Model/results/\"\n",
    "data_path = \"/home/luke/data/MATRIX_data/\"\n",
    "\n",
    "path = result_path + dataset\n",
    "path2 = data_path + dataset"
   ]
  },
  {
   "cell_type": "code",
   "execution_count": 7,
   "metadata": {},
   "outputs": [],
   "source": [
    "x_sol = np.load(path + '/sol.npy')\n",
    "full_ref = np.load(path + '/full_ref.npy')\n",
    "full_obs = np.load(path + '/full_resid_spectra.npy')\n",
    "obs_spec = np.load(path + '/obs.npy')\n",
    "W = np.load(path + '/W.npy')\n",
    "W_full = np.load(path + '/W_full.npy')"
   ]
  },
  {
   "cell_type": "code",
   "execution_count": 9,
   "metadata": {},
   "outputs": [],
   "source": [
    "def PlotSpectralResiduals(full_ref_spec, full_obs_spec, W_full, x_sol, sigma, Compounds, dataset: str, t = None):\n",
    "\n",
    "    y_model, y, y_model_err = inversion_residual(full_ref_spec, full_obs_spec, x_sol, np.sqrt(sigma))\n",
    "\n",
    "    Nl = full_ref_spec.shape[1]\n",
    "    Nt = full_obs_spec.shape[0]\n",
    "\n",
    "    for j, key in enumerate(Compounds):\n",
    "\n",
    "        species_arr = x_sol[j * Nt:(j + 1) * Nt]\n",
    "        t = np.argmax(species_arr)\n",
    "        y_model_sel, y_sel, y_model_err_sel = y_model[t*Nl:(t+1)*Nl], y[t*Nl:(t+1)*Nl], y_model_err[t*Nl:(t+1)*Nl]\n",
    "\n",
    "        num = len(Compounds[key]['bounds'])\n",
    "        fig, axs = plt.subplots(num, 2, figsize=(12, 4*num), gridspec_kw={'width_ratios': [3, 1]})\n",
    "        if num == 1:\n",
    "            axs = [axs]\n",
    "\n",
    "        fig.suptitle(key, x=0.05, y=0.95, ha='left', fontsize=16)  # Add figure text at the top left\n",
    "        fig.text(0.02, 0.5, 'Absorbance', va='center', ha='left', rotation='vertical', fontsize=14)\n",
    "        fig.text(0.695, 0.5, 'Observed - Modelled Spectra', va='center', ha='left', rotation='vertical', fontsize=14)\n",
    "\n",
    "        for i, bound in enumerate(Compounds[key]['bounds']):\n",
    "            \n",
    "            max_points = []\n",
    "            min_points = []\n",
    "\n",
    "            for b in Compounds[key]['bounds']:\n",
    "                max_points.append(np.max(y_model_sel[np.where((W_full >= b[0]) & (W_full <= b[1]))]))\n",
    "                min_points.append(np.min(y_model_sel[np.where((W_full >= b[0]) & (W_full <= b[1]))]))\n",
    "\n",
    "            # Plot on the left side\n",
    "            axs[i][0].plot(W_full, y_sel, color='red', linewidth=4, label='Observed Spectra')\n",
    "            axs[i][0].plot(W_full, y_model_sel, '-.', color='k', label='Modelled Spectra')\n",
    "            axs[i][0].fill_between(W_full, y_model_sel - y_model_err_sel, y_model_sel + y_model_err_sel, color='gray', alpha=0.5)\n",
    "            axs[i][0].set_xlim(bound[0], bound[1])\n",
    "            axs[i][0].set_ylim(np.min(min_points)-0.01, np.max(max_points)+0.01)\n",
    "            axs[i][0].tick_params(axis='both', labelsize=12)\n",
    "\n",
    "            # Add custom title on the right side\n",
    "            axs[i][0].text(0.75, 1.05, str(bound[0])+' - '+str(bound[1])+' cm$^{-1}$', transform=axs[i][0].transAxes, va='center', ha='left', fontsize=14, rotation='horizontal', fontstyle='italic')\n",
    "\n",
    "            # Plot histogram on the right side\n",
    "            diff = y_sel[np.where((W_full >= bound[0]) & (W_full <= bound[1]))] - y_model_sel[np.where((W_full >= bound[0]) & (W_full <= bound[1]))]\n",
    "            axs[i][1].hist(diff, bins=20,  alpha=0.7, color='#3498db', edgecolor='black', orientation='horizontal')\n",
    "            axs[i][1].axhline(y=0, color='black', linestyle='-', linewidth=1)\n",
    "            axs[i][1].grid(axis='x', linestyle='--', alpha=0.7)\n",
    "            axs[i][1].tick_params(axis='both', labelsize=12)\n",
    "\n",
    "        axs[len(Compounds[key]['bounds'])-1][0].set_xlabel('Wavenumber / cm$^{-1}$', fontsize=14)\n",
    "        axs[len(Compounds[key]['bounds'])-1][1].set_xlabel('Frequency', fontsize=14)\n",
    "        axs[0][0].legend(fontsize=14)\n",
    "\n",
    "        # Adjust layout to prevent clipping of titles\n",
    "        plt.tight_layout(rect=[0.03, 0, 0.98, 0.95])\n",
    "        plt.subplots_adjust(wspace=0.25)\n",
    "\n",
    "        # Show the plot\n",
    "        plt.savefig('/home/luke/data/Model/plots/'+ dataset + '/Residuals/' + key + '.png')\n",
    "        plt.show()\n",
    "\n",
    "    return"
   ]
  },
  {
   "cell_type": "code",
   "execution_count": null,
   "metadata": {},
   "outputs": [],
   "source": [
    "PlotSpectralResiduals(full_ref, obs_spec, W_full, x_sol, sigma, Compounds, dataset: str, t = None)"
   ]
  },
  {
   "cell_type": "code",
   "execution_count": null,
   "metadata": {},
   "outputs": [],
   "source": []
  }
 ],
 "metadata": {
  "kernelspec": {
   "display_name": "base",
   "language": "python",
   "name": "python3"
  },
  "language_info": {
   "codemirror_mode": {
    "name": "ipython",
    "version": 3
   },
   "file_extension": ".py",
   "mimetype": "text/x-python",
   "name": "python",
   "nbconvert_exporter": "python",
   "pygments_lexer": "ipython3",
   "version": "3.10.13"
  }
 },
 "nbformat": 4,
 "nbformat_minor": 2
}
