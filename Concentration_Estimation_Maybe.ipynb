{
 "cells": [
  {
   "cell_type": "code",
   "execution_count": 9,
   "id": "74cb788e",
   "metadata": {},
   "outputs": [],
   "source": [
    "import pickle as pkl\n",
    "import numpy as np\n",
    "from sklearn.linear_model import LinearRegression"
   ]
  },
  {
   "cell_type": "markdown",
   "id": "15d7832b",
   "metadata": {},
   "source": [
    "Load in Linear Regression models I made with the calibration data.\n",
    "\n",
    "0. Acetic Acid. 1. Acetic Acid (again). 2. Acetone. 3. Acetone (again). 4. Ammonia. 5. C2H2. 6. C2H4. 7. C2H6. 8. C2H6 (again). 9. CH3CHO. 10. CH3Cl. 11. CH3Cl (again). 12. CH4. 13. CO. 14. CO2. 15. CO2 (again). 16. Cyclopentene. 17. DMS. 18. DMS (again). 19. Ethanol. 20. Ethanol (again). 21. Ethanol (again) (again). 22. Formaldehyde. 23. Formic Acid. 24. Formic Acid (again). 25. Furan. 26. Furan (again). 27. HONO. 28. Toluene."
   ]
  },
  {
   "cell_type": "code",
   "execution_count": 5,
   "id": "35c4f5dc",
   "metadata": {},
   "outputs": [],
   "source": [
    "Comp = ['Acetic Acid', 'Acetic Acid', 'Acetone', 'Acetone', 'Ammonia', 'C2H2', 'C2H4', 'C2H6', 'C2H6', 'CH3CHO', 'CH3Cl', 'CH3Cl', 'CH4', 'CO', 'CO2', 'CO2', 'Cyclopentene', 'DMS', 'DMS', 'Ethanol', 'Ethanol', 'Ethanol', 'Ethanol', 'Formaldehyde', 'Formic', 'Formic', 'Furan', 'Furan', 'HONO', 'Toluene']\n",
    "Range = [[1125,1225],[955,1025],[1165,1265],[2962,3035],[910,980],[725,770],[900,1020],[2970,2980],[2970,2980],[1065,1165],[725,775],[950,1085],[3000,3150],[2090,2130],[2229,2247],[2229,2247],[2840,2920],[2820,2950],[2885,2975],[835,940],[990,1130],[1020,1100],[2830,3030],[2720,2830],[1070,1130],[1070,1130],[730,760],[960,1020],[820,890],[690,760]]"
   ]
  },
  {
   "cell_type": "code",
   "execution_count": 4,
   "id": "64407439",
   "metadata": {},
   "outputs": [],
   "source": [
    "models = pkl.load(open('CalibrationModels.pkl', 'rb'))"
   ]
  },
  {
   "cell_type": "markdown",
   "id": "f2aea542",
   "metadata": {},
   "source": [
    "So I want to experiment with the reference data (which we have under Absorptions.csv) multiplied by the derived weights for a set of measurements.\n",
    "\n",
    "The resulting wavenumber/absorption number can then be fed to these models.\n",
    "\n",
    "I'm curious if the results are reasonable."
   ]
  },
  {
   "cell_type": "code",
   "execution_count": 16,
   "id": "db19936d",
   "metadata": {},
   "outputs": [
    {
     "name": "stdout",
     "output_type": "stream",
     "text": [
      "conc = 721.2262705188077\n"
     ]
    }
   ],
   "source": [
    "# e.g. a made-up CO2 result\n",
    "\n",
    "m = models[14]\n",
    "\n",
    "w = np.array([2240])\n",
    "a = np.array([0.03])\n",
    "w = w.reshape(-1, 1)\n",
    "a = a.reshape(-1, 1)\n",
    "\n",
    "PPM = m.predict(np.hstack((w,a)))[0]\n",
    "\n",
    "print(\"conc =\", PPM)"
   ]
  }
 ],
 "metadata": {
  "kernelspec": {
   "display_name": "Python 3 (ipykernel)",
   "language": "python",
   "name": "python3"
  },
  "language_info": {
   "codemirror_mode": {
    "name": "ipython",
    "version": 3
   },
   "file_extension": ".py",
   "mimetype": "text/x-python",
   "name": "python",
   "nbconvert_exporter": "python",
   "pygments_lexer": "ipython3",
   "version": "3.9.16"
  }
 },
 "nbformat": 4,
 "nbformat_minor": 5
}
