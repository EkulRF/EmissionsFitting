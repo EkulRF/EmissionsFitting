{
 "cells": [
  {
   "cell_type": "code",
   "execution_count": 3,
   "metadata": {},
   "outputs": [],
   "source": [
    "import os\n",
    "import numpy as np\n",
    "\n",
    "base_path = \"/home/luke/data/Model/results_param/\"\n",
    "dataset = \"Peat6\"\n",
    "\n",
    "path = base_path + dataset"
   ]
  },
  {
   "cell_type": "code",
   "execution_count": 9,
   "metadata": {},
   "outputs": [],
   "source": [
    "import matplotlib.pyplot as plt\n",
    "from ipywidgets import interact, widgets\n",
    "import mpld3\n",
    "\n",
    "def update_plot(index):\n",
    "\n",
    "    fig, ax = plt.subplots(figsize=(8, 6))\n",
    "    ax.plot(wv_selection, theoretical_spectra[index, :], 'k-.',  label=f'Fitted Spectra')\n",
    "    ax.plot(wv_selection, np.nan_to_num(obs_selection), color = 'red', label=f'Observed Spectra')\n",
    "    ax.set_title('Theoretical Spectra at Broadening Parameter = {:.2f}'.format((T_guess[index]/1254)))\n",
    "    ax.set_xlabel('Wavelength Selection')\n",
    "    ax.set_ylabel('Absorbance')\n",
    "    ax.legend()\n",
    "    ax.grid(True)\n",
    "\n",
    "    interactive_html = mpld3.fig_to_html(fig)\n",
    "\n",
    "    # Display the HTML page (optional, you can save it or use it as needed)\n",
    "    mpld3.display()"
   ]
  },
  {
   "cell_type": "code",
   "execution_count": 32,
   "metadata": {},
   "outputs": [],
   "source": [
    "species = 'H2O'\n",
    "\n",
    "obs_selection = np.load(path + '/obs_selection_' + species + '.npy')\n",
    "theoretical_spectra = np.load(path + '/theoretical_spectra_' + species + '.npy')\n",
    "wv_selection = np.load(path + '/wv_selection_' + species + '.npy')\n",
    "\n",
    "T_guess = np.linspace(273, 673, 200)\n",
    "P_guess = np.linspace(0.9, 10, 200)"
   ]
  },
  {
   "cell_type": "code",
   "execution_count": 33,
   "metadata": {},
   "outputs": [
    {
     "data": {
      "application/vnd.jupyter.widget-view+json": {
       "model_id": "fbe6f572b5984d5abe32ecceefb9d5c4",
       "version_major": 2,
       "version_minor": 0
      },
      "text/plain": [
       "interactive(children=(IntSlider(value=0, description='Broadening Parameter', max=199), Output()), _dom_classes…"
      ]
     },
     "metadata": {},
     "output_type": "display_data"
    },
    {
     "data": {
      "text/plain": [
       "<function __main__.update_plot(index)>"
      ]
     },
     "execution_count": 33,
     "metadata": {},
     "output_type": "execute_result"
    }
   ],
   "source": [
    "def update_plot(index):\n",
    "\n",
    "    fig, ax = plt.subplots(figsize=(7.5, 5.5))\n",
    "    # ax.plot(wv_selection, theoretical_spectra[index, :], 'k-.',  label=f'Fitted Spectra')\n",
    "    # ax.plot(wv_selection, np.nan_to_num(obs_selection), color = 'red', label=f'Observed Spectra')\n",
    "    ax.plot(theoretical_spectra[index, :], 'k-.',  label=f'Fitted Spectra')\n",
    "    ax.plot(np.nan_to_num(obs_selection), color = 'red', label=f'Observed Spectra')\n",
    "    ax.set_title('Theoretical Spectra at Broadening Parameter = {:.2f}'.format((T_guess[index]/1254)))\n",
    "    ax.set_xlabel('Wavenumber')\n",
    "    ax.set_ylabel('Absorbance')\n",
    "    ax.legend()\n",
    "    ax.grid(True)\n",
    "\n",
    "    interactive_html = mpld3.fig_to_html(fig)\n",
    "\n",
    "    # Display the HTML page (optional, you can save it or use it as needed)\n",
    "    #mpld3.display()\n",
    "    plt.show()\n",
    "\n",
    "# Create an interactive slider widget\n",
    "index_slider = widgets.IntSlider(value=0, min=0, max=len((T_guess/1254)) - 1, step=1, description='Broadening Parameter')\n",
    "\n",
    "# Connect the slider to the update_plot function\n",
    "interact(update_plot, index=index_slider)\n",
    "\n"
   ]
  },
  {
   "cell_type": "code",
   "execution_count": 34,
   "metadata": {},
   "outputs": [
    {
     "data": {
      "application/vnd.jupyter.widget-view+json": {
       "model_id": "125b86d3d4754df894a4716746d2b44c",
       "version_major": 2,
       "version_minor": 0
      },
      "text/plain": [
       "interactive(children=(IntSlider(value=0, description='Broadening Parameter', max=199), Output()), _dom_classes…"
      ]
     },
     "metadata": {},
     "output_type": "display_data"
    },
    {
     "data": {
      "text/plain": [
       "<function __main__.update_plot(index)>"
      ]
     },
     "execution_count": 34,
     "metadata": {},
     "output_type": "execute_result"
    }
   ],
   "source": [
    "def update_plot(index):\n",
    "\n",
    "    fig, ax = plt.subplots(figsize=(7.5, 5.5))\n",
    "    # ax.plot(wv_selection, theoretical_spectra[index, :], 'k-.',  label=f'Fitted Spectra')\n",
    "    # ax.plot(wv_selection, np.nan_to_num(obs_selection), color = 'red', label=f'Observed Spectra')\n",
    "    ax.plot(wv_selection[:3000], np.nan_to_num(obs_selection)[:3000], color = 'red', label=f'Observed Spectra')\n",
    "    ax.plot(wv_selection[:3000], theoretical_spectra[index, :3000], 'k-.',  label=f'Fitted Spectra')\n",
    "    ax.set_title('Theoretical ' + species + ' Spectra at Broadening Parameter = {:.2f}'.format((T_guess[index]/1254)), fontsize= 13)\n",
    "    ax.set_xlabel('Wavenumber / cm$^{-1}$', fontsize= 13)\n",
    "    ax.set_ylabel('Absorbance', fontsize= 13)\n",
    "    ax.tick_params(labelsize= 13)\n",
    "    ax.legend(fontsize=13)\n",
    "    ax.grid(True)\n",
    "\n",
    "    interactive_html = mpld3.fig_to_html(fig)\n",
    "\n",
    "    # Display the HTML page (optional, you can save it or use it as needed)\n",
    "    #mpld3.display()\n",
    "    plt.show()\n",
    "\n",
    "# Create an interactive slider widget\n",
    "index_slider = widgets.IntSlider(value=0, min=0, max=len((T_guess/1254)) - 1, step=1, description='Broadening Parameter')\n",
    "\n",
    "# Connect the slider to the update_plot function\n",
    "interact(update_plot, index=index_slider)\n",
    "\n"
   ]
  },
  {
   "cell_type": "code",
   "execution_count": null,
   "metadata": {},
   "outputs": [],
   "source": []
  }
 ],
 "metadata": {
  "kernelspec": {
   "display_name": "base",
   "language": "python",
   "name": "python3"
  },
  "language_info": {
   "codemirror_mode": {
    "name": "ipython",
    "version": 3
   },
   "file_extension": ".py",
   "mimetype": "text/x-python",
   "name": "python",
   "nbconvert_exporter": "python",
   "pygments_lexer": "ipython3",
   "version": "3.10.13"
  }
 },
 "nbformat": 4,
 "nbformat_minor": 2
}
